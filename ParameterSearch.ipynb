{
  "cells": [
    {
      "cell_type": "markdown",
      "metadata": {
        "id": "DBRih2xVc259"
      },
      "source": [
        "# Import"
      ]
    },
    {
      "cell_type": "code",
      "execution_count": 11,
      "metadata": {
        "colab": {
          "base_uri": "https://localhost:8080/",
          "height": 384
        },
        "id": "0iIM8wEbc25-",
        "outputId": "b95fab44-481a-4a80-bb7a-e3eaf84be9a1"
      },
      "outputs": [],
      "source": [
        "import pandas as pd\n",
        "import numpy as np\n",
        "import json\n",
        "\n",
        "from modules.features_encoding import FeaturesEncoding\n",
        "\n",
        "from sklearn.model_selection import StratifiedKFold\n",
        "from sklearn.preprocessing import StandardScaler, FunctionTransformer, LabelEncoder\n",
        "from sklearn.model_selection import cross_val_score\n",
        "\n",
        "from sklearn.pipeline import make_pipeline\n",
        "from sklearn.compose import ColumnTransformer\n",
        "\n",
        "import optuna\n",
        "from xgboost import XGBClassifier\n",
        "from lightgbm import LGBMClassifier\n",
        "from catboost import CatBoostClassifier\n",
        "from sklearn.ensemble import RandomForestClassifier\n",
        "\n",
        "import warnings\n",
        "warnings.filterwarnings('ignore')\n"
      ]
    },
    {
      "cell_type": "code",
      "execution_count": null,
      "metadata": {},
      "outputs": [],
      "source": [
        "train = pd.read_csv('data/train.csv', index_col = 'id')"
      ]
    },
    {
      "cell_type": "markdown",
      "metadata": {
        "id": "7w-9AbP0c26B"
      },
      "source": [
        "# Optuna"
      ]
    },
    {
      "cell_type": "code",
      "execution_count": 8,
      "metadata": {
        "id": "mcMLIYAYc26B"
      },
      "outputs": [],
      "source": [
        "X = train.copy()\n",
        "\n",
        "lb = LabelEncoder()\n",
        "y = lb.fit_transform(X.pop())\n",
        "\n",
        "SEED = 42\n",
        "SPLITS = 5\n",
        "TRIALS = 200\n",
        "SKF = StratifiedKFold(n_splits = SPLITS, random_state = SEED, shuffle = True)"
      ]
    },
    {
      "cell_type": "markdown",
      "metadata": {
        "id": "dKTNdJISc26C"
      },
      "source": [
        "## XGB"
      ]
    },
    {
      "cell_type": "code",
      "execution_count": 9,
      "metadata": {
        "id": "Jrm_Nd7sc26C"
      },
      "outputs": [],
      "source": [
        "params_xgb = {\n",
        "        'objective':'multi:softmax',\n",
        "        'booster':'gbtree',\n",
        "        'random_state': SEED,\n",
        "        'tree_method' : 'hist',\n",
        "}\n",
        "def xgb_objective(trial):\n",
        "\n",
        "    params = {\n",
        "        'max_depth' : trial.suggest_int('max_depth', 0, 30),\n",
        "        'grow_policy': trial.suggest_categorical('grow_policy', [\"depthwise\", \"lossguide\"]),\n",
        "        'n_estimators': trial.suggest_int('n_estimators', 100, 2000),\n",
        "        'learning_rate': trial.suggest_float('learning_rate', 1e-4, 1e-1, log = True),\n",
        "        'gamma' : trial.suggest_float('gamma', 1e-9, 1.0),\n",
        "        'subsample': trial.suggest_float('subsample', 0.25, 1.0),\n",
        "        'colsample_bytree': trial.suggest_float('colsample_bytree', 0.25, 1.0),\n",
        "        'max_depth': trial.suggest_int('max_depth', 0, 24),\n",
        "        'min_child_weight': trial.suggest_int('min_child_weight', 1, 30),\n",
        "        'reg_lambda': trial.suggest_float('reg_lambda', 1e-9, 10.0, log=True),\n",
        "        'reg_alpha': trial.suggest_float('reg_alpha', 1e-9, 10.0, log=True),\n",
        "\n",
        "        **params_xgb\n",
        "\n",
        "    }\n",
        "\n",
        "    optuna_model = make_pipeline(\n",
        "        FunctionTransformer(FeaturesEncoding),\n",
        "        FeatureScaler,\n",
        "        XGBClassifier(**params)\n",
        "    )\n",
        "\n",
        "    optuna_score = cross_val_score(optuna_model, X, y, scoring='accuracy', cv=SKF, n_jobs=-1)\n",
        "\n",
        "    return np.mean(optuna_score)"
      ]
    },
    {
      "cell_type": "code",
      "execution_count": 10,
      "metadata": {
        "id": "fj0D2D0hc26C"
      },
      "outputs": [],
      "source": [
        "if False :\n",
        "    xgb_study = optuna.create_study(direction = 'maximize')\n",
        "    xgb_study.optimize(xgb_objective,n_trials=TRIALS, n_jobs=-1, show_progress_bar=True)\n",
        "    print(\"\")\n",
        "    print(f'scores : {xgb_study.best_value}, params : {xgb_study.best_params} ')\n",
        "    with open('json/xgb.json', 'w') as json_file:\n",
        "        json.dump(xgb_study.best_params, json_file, indent=4)"
      ]
    },
    {
      "cell_type": "markdown",
      "metadata": {
        "id": "KDBueRp-c26C"
      },
      "source": [
        "## LGBM"
      ]
    },
    {
      "cell_type": "code",
      "execution_count": 11,
      "metadata": {
        "id": "DnfIKqB1c26C"
      },
      "outputs": [],
      "source": [
        "params_lgbm = {\n",
        "    \"objective\": \"multiclass\",\n",
        "    \"metric\": \"multi_logloss\",\n",
        "    \"boosting_type\": \"gbdt\",\n",
        "    \"num_class\": 7,\n",
        "    'random_state': SEED\n",
        "}\n",
        "def lgbm_objective(trial):\n",
        "    params = {\n",
        "        'learning_rate': trial.suggest_float('learning_rate', .001, .1, log = True),\n",
        "        'num_leaves': trial.suggest_int('num_leaves',10, 1000),\n",
        "        'max_depth': trial.suggest_int('max_depth', 2, 20),\n",
        "        'min_child_samples': trial.suggest_int('min_child_samples', 1, 20),\n",
        "        'subsample': trial.suggest_float('subsample', .5, 1),\n",
        "        'colsample_bytree': trial.suggest_float('colsample_bytree', 0.5, 1.0),\n",
        "        'reg_lambda' : trial.suggest_float('reg_lambda', 0.1, 20, log = True),\n",
        "        'reg_alpha' : trial.suggest_float('reg_alpha', 0.1, 10, log = True),\n",
        "        'n_estimators': trial.suggest_int('n_estimators', 50, 1000),\n",
        "        'min_child_weight' : trial.suggest_float('min_child_weight', .1, 15, log = True),\n",
        "        **params_lgbm\n",
        "\n",
        "    }\n",
        "\n",
        "    optuna_model = make_pipeline(\n",
        "        FunctionTransformer(FeaturesEncoding),\n",
        "        FeatureScaler,\n",
        "        LGBMClassifier(**params)\n",
        "    )\n",
        "\n",
        "    optuna_score = cross_val_score(optuna_model, X, y, scoring='accuracy', cv=SKF, n_jobs=-1)\n",
        "\n",
        "    return np.mean(optuna_score)"
      ]
    },
    {
      "cell_type": "code",
      "execution_count": 12,
      "metadata": {
        "id": "gRMCUIAhc26C"
      },
      "outputs": [],
      "source": [
        "if False :\n",
        "    lgbm_study = optuna.create_study(direction = 'maximize')\n",
        "    lgbm_study.optimize(lgbm_objective,n_trials=TRIALS, n_jobs=-1, show_progress_bar=True)\n",
        "    print(\"\")\n",
        "    print(f'scores : {lgbm_study.best_value}, params : {lgbm_study.best_params} ')\n",
        "    with open('json/lgbm.json', 'w') as json_file:\n",
        "        json.dump(lgbm_study.best_params, json_file, indent=4)"
      ]
    },
    {
      "cell_type": "markdown",
      "metadata": {
        "id": "qsBd6M7Bc26C"
      },
      "source": [
        "## CatBoost"
      ]
    },
    {
      "cell_type": "code",
      "execution_count": 13,
      "metadata": {
        "id": "Xa3y5lhmc26C"
      },
      "outputs": [],
      "source": [
        "params_cat ={\n",
        "    'thread_count': 4,\n",
        "    'eval_metric': 'AUC',\n",
        "    'loss_function': 'MultiClass',\n",
        "    'random_seed': SEED,\n",
        "    'verbose': False,\n",
        "    'cat_features' : [8, 9,10,11,12,13,14,15]\n",
        "\n",
        "}\n",
        "def bmi(df):\n",
        "    data = df.copy()\n",
        "    data['BMI'] = (data['Weight']/data['Height']**2)\n",
        "    return data\n",
        "\n",
        "def cat_objective(trial):\n",
        "    params = {\n",
        "        'learning_rate': trial.suggest_float('learning_rate', 0.01, 0.3),\n",
        "        'depth': trial.suggest_int('depth', 4, 10),\n",
        "        'l2_leaf_reg': trial.suggest_float('l2_leaf_reg', 0.01, 10),\n",
        "        'iterations': trial.suggest_int('iterations', 50, 1000),\n",
        "        'bagging_temperature': trial.suggest_float('bagging_temperature', 0.0, 1.0),\n",
        "        'border_count': trial.suggest_int('border_count', 32, 255),\n",
        "        **params_cat\n",
        "    }\n",
        "\n",
        "    optuna_model = make_pipeline(\n",
        "        FunctionTransformer(bmi),\n",
        "        FeatureScaler,\n",
        "        CatBoostClassifier(**params)\n",
        "    )\n",
        "\n",
        "    optuna_score = cross_val_score(optuna_model, X, y, scoring='accuracy', cv=SKF, n_jobs=-1)\n",
        "\n",
        "    return np.mean(optuna_score)"
      ]
    },
    {
      "cell_type": "code",
      "execution_count": 14,
      "metadata": {
        "id": "fQHagRo6c26C"
      },
      "outputs": [],
      "source": [
        "if False :\n",
        "    cat_study = optuna.create_study(direction = 'maximize')\n",
        "    cat_study.optimize(cat_objective,n_trials=TRIALS, n_jobs=-1, show_progress_bar=True)\n",
        "    print(\"\")\n",
        "    print(f'scores : {cat_study.best_value}, params : {cat_study.best_params}')\n",
        "    with open('json/cat.json', 'w') as json_file:\n",
        "        json.dump(cat_study.best_params, json_file, indent=4)"
      ]
    },
    {
      "cell_type": "markdown",
      "metadata": {
        "id": "dL_P76skc26C"
      },
      "source": [
        "## RF"
      ]
    },
    {
      "cell_type": "code",
      "execution_count": 15,
      "metadata": {
        "id": "KSJLo8FXc26D"
      },
      "outputs": [],
      "source": [
        "params_rf = {\n",
        "        'random_state' : SEED,\n",
        "}\n",
        "def rf_objective(trial):\n",
        "    liste = [None] + list(range(2, 50))\n",
        "    params = {\n",
        "        'n_estimators' : trial.suggest_int('n_estimators', 10, 500),\n",
        "        'criterion' : trial.suggest_categorical(\"criterion\", [\"gini\", \"entropy\", \"log_loss\"]),\n",
        "        'max_depth' : trial.suggest_categorical('max_leaf_nodes',liste ),\n",
        "        'min_samples_split' : trial.suggest_int('min_samples_split', 2, 30),\n",
        "        'min_samples_leaf' : trial.suggest_int('min_samples_leaf', 2, 30),\n",
        "        'min_weight_fraction_leaf' : trial.suggest_float('min_weight_fraction_leaf', 0, .5),\n",
        "        'max_features' : trial.suggest_categorical(\"max_features\", [\"sqrt\", \"log2\", None]),\n",
        "        'max_leaf_nodes' : trial.suggest_categorical('max_leaf_nodes', liste),\n",
        "        'min_impurity_decrease' : trial.suggest_float('min_impurity_decrease', 1e-9, 1e-2, log = True),\n",
        "        'bootstrap' : trial.suggest_categorical(\"bootstrap\", [True, False]),\n",
        "        'class_weight' : trial.suggest_categorical(\"class_weight\", [\"balanced\", \"balanced_subsample\", None]),\n",
        "\n",
        "        **params_rf\n",
        "\n",
        "    }\n",
        "\n",
        "    optuna_model = make_pipeline(\n",
        "        FunctionTransformer(FeaturesEncoding),\n",
        "        FeatureScaler,\n",
        "        RandomForestClassifier(**params)\n",
        "    )\n",
        "\n",
        "    optuna_score = cross_val_score(optuna_model, X, y, scoring='accuracy', cv=SKF, n_jobs=-1)\n",
        "\n",
        "    return np.mean(optuna_score)"
      ]
    },
    {
      "cell_type": "code",
      "execution_count": 16,
      "metadata": {
        "id": "eVaHyRHDc26D"
      },
      "outputs": [],
      "source": [
        "if False :\n",
        "    rf_study = optuna.create_study(direction = 'maximize')\n",
        "    rf_study.optimize(rf_objective,n_trials=TRIALS, n_jobs=-1, show_progress_bar=True)\n",
        "    print(\"\")\n",
        "    print(f'scores : {rf_study.best_value}, params : {rf_study.best_params} ')\n",
        "    with open('json/rf.json', 'w') as json_file:\n",
        "        json.dump(rf_study.best_params, json_file, indent=4)"
      ]
    },
    {
      "cell_type": "markdown",
      "metadata": {
        "id": "I_F_4f50c26D"
      },
      "source": [
        "## Summary"
      ]
    },
    {
      "cell_type": "code",
      "execution_count": 20,
      "metadata": {
        "id": "PQtDf9r4c26D",
        "outputId": "21835d91-0f3b-4de5-fa71-1e760439c248"
      },
      "outputs": [],
      "source": [
        "try :\n",
        "    del XGB, LGBM, CAT, RF\n",
        "except :\n",
        "    pass\n",
        "\n",
        "from modules.model import XGB, LGBM, CAT, RF"
      ]
    },
    {
      "cell_type": "code",
      "execution_count": 21,
      "metadata": {
        "id": "qayVc9D_c26D",
        "outputId": "4788f199-94b6-45be-fd88-8d74ebb531ca"
      },
      "outputs": [
        {
          "name": "stdout",
          "output_type": "stream",
          "text": [
            "xgb  - Mean score  : 0.90934 ± 0.00332\n",
            "lgbm - Mean score  : 0.90890 ± 0.00270\n",
            "cat  - Mean score  : 0.90722 ± 0.00562\n",
            "rf   - Mean score  : 0.88111 ± 0.00520\n"
          ]
        }
      ],
      "source": [
        "for name, model in [('xgb ', XGB), ('lgbm', LGBM), ('cat ', CAT), ('rf  ', RF)] :\n",
        "    scores = cross_val_score(model, X,y,scoring='accuracy',cv=SKF, n_jobs=-1)\n",
        "    print(f'{name} - Mean score  : {np.mean(scores):.5f} ± {np.std(scores):.5f}')"
      ]
    },
    {
      "cell_type": "code",
      "execution_count": null,
      "metadata": {},
      "outputs": [],
      "source": []
    }
  ],
  "metadata": {
    "colab": {
      "provenance": []
    },
    "kernelspec": {
      "display_name": "playground",
      "language": "python",
      "name": "python3"
    },
    "language_info": {
      "codemirror_mode": {
        "name": "ipython",
        "version": 3
      },
      "file_extension": ".py",
      "mimetype": "text/x-python",
      "name": "python",
      "nbconvert_exporter": "python",
      "pygments_lexer": "ipython3",
      "version": "3.11.7"
    }
  },
  "nbformat": 4,
  "nbformat_minor": 0
}
